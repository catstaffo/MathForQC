{
 "cells": [
  {
   "cell_type": "code",
   "execution_count": 1,
   "id": "b752e6a3-5bc5-4516-b04a-a128dbfd6c88",
   "metadata": {},
   "outputs": [],
   "source": [
    "import numpy as np\n",
    "from mpl_toolkits import mplot3d\n",
    "import matplotlib.pyplot as plt"
   ]
  },
  {
   "cell_type": "code",
   "execution_count": 2,
   "id": "a70a5488-8173-4387-9fed-32a0738cc548",
   "metadata": {},
   "outputs": [],
   "source": [
    "\n",
    "v1 = np.array([-3, 4])\n",
    "mu = 1/np.linalg.norm(v1)\n",
    "v1n = v1*mu"
   ]
  },
  {
   "cell_type": "code",
   "execution_count": 3,
   "id": "8296753a-663a-4207-acc2-0e19f1c1df9a",
   "metadata": {},
   "outputs": [
    {
     "data": {
      "image/png": "[encoded data removed]",
      "text/plain": [
       "<Figure size 432x288 with 1 Axes>"
      ]
     },
     "metadata": {
      "needs_background": "light"
     },
     "output_type": "display_data"
    }
   ],
   "source": [
    "plt.plot([0, v1n[0]], [0, v1n[1]], 'r', label='v1-norm', linewidth=5)\n",
    "plt. plot([0, v1[0]],[0,v1[1]], 'b', label='v1')\n",
    "plt.axis('square')\n",
    "plt.axis((-6,6,-6,6))\n",
    "plt.grid()\n",
    "plt.legend()\n",
    "plt.show()"
   ]
  }
 ],
 "metadata": {
  "kernelspec": {
   "display_name": "Python 3 (ipykernel)",
   "language": "python",
   "name": "python3"
  },
  "language_info": {
   "codemirror_mode": {
    "name": "ipython",
    "version": 3
   },
   "file_extension": ".py",
   "mimetype": "text/x-python",
   "name": "python",
   "nbconvert_exporter": "python",
   "pygments_lexer": "ipython3",
   "version": "3.8.13"
  },
  "widgets": {
   "application/vnd.jupyter.widget-state+json": {
    "state": {},
    "version_major": 2,
    "version_minor": 0
   }
  }
 },
 "nbformat": 4,
 "nbformat_minor": 5
}
