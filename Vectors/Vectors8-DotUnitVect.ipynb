{
 "cells": [
  {
   "cell_type": "code",
   "execution_count": 1,
   "id": "784be973-9c89-4939-b7bc-678d658c6598",
   "metadata": {},
   "outputs": [],
   "source": [
    "import numpy as np\n",
    "from mpl_toolkits import mplot3d\n",
    "import matplotlib.pyplot as plt"
   ]
  },
  {
   "cell_type": "code",
   "execution_count": 2,
   "id": "7b03875a-3735-479c-8607-e3e19808fa4f",
   "metadata": {},
   "outputs": [
    {
     "name": "stdout",
     "output_type": "stream",
     "text": [
      "36.26292872893749 28.583211855912904 1315.0\n",
      " \n",
      "[ 0.66183292 -0.08272911  0.02757637  0.74456203] [-0.489798    0.06997114  0.66472586  0.55976914]\n",
      " \n",
      "0.10516048811322604\n"
     ]
    }
   ],
   "source": [
    "# creating 2 rndm int vectors\n",
    "n = 4\n",
    "v1 = np.round( 20*np.random.randn(n) )\n",
    "v2 = np.round( 20*np.random.randn(n) )\n",
    "\n",
    "# calculate lngths of indv vectors & mag of dot prod\n",
    "v1m = np.sqrt(np.dot(v1,v1))\n",
    "v2m = np.sqrt(np.dot(v2,v2))\n",
    "dpm = np.abs(np.dot(v1,v1))\n",
    "print(v1m,v2m,dpm)\n",
    "print(' ')\n",
    "\n",
    "# normalize vectors\n",
    "v1u = v1/v1m\n",
    "v2u = v2/v2m\n",
    "print(v1u, v2u)\n",
    "print(' ')\n",
    "\n",
    "# calculate mag of that dot prod\n",
    "dpm = np.abs(np.dot(v1u,v2u))\n",
    "print(dpm)"
   ]
  },
  {
   "cell_type": "code",
   "execution_count": null,
   "id": "d1ed7038-fc8b-472d-8072-1176c23119b9",
   "metadata": {},
   "outputs": [],
   "source": []
  }
 ],
 "metadata": {
  "kernelspec": {
   "display_name": "Python 3 (ipykernel)",
   "language": "python",
   "name": "python3"
  },
  "language_info": {
   "codemirror_mode": {
    "name": "ipython",
    "version": 3
   },
   "file_extension": ".py",
   "mimetype": "text/x-python",
   "name": "python",
   "nbconvert_exporter": "python",
   "pygments_lexer": "ipython3",
   "version": "3.8.13"
  },
  "widgets": {
   "application/vnd.jupyter.widget-state+json": {
    "state": {},
    "version_major": 2,
    "version_minor": 0
   }
  }
 },
 "nbformat": 4,
 "nbformat_minor": 5
}
